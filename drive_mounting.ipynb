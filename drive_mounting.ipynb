{
  "nbformat": 4,
  "nbformat_minor": 0,
  "metadata": {
    "colab": {
      "provenance": [],
      "collapsed_sections": [],
      "authorship_tag": "ABX9TyNfhSyS4faFifeaPlvT6fHQ",
      "include_colab_link": true
    },
    "kernelspec": {
      "name": "python3",
      "display_name": "Python 3"
    },
    "language_info": {
      "name": "python"
    }
  },
  "cells": [
    {
      "cell_type": "markdown",
      "metadata": {
        "id": "view-in-github",
        "colab_type": "text"
      },
      "source": [
        "<a href=\"https://colab.research.google.com/github/Hanuiny/Test/blob/main/drive_mounting.ipynb\" target=\"_parent\"><img src=\"https://colab.research.google.com/assets/colab-badge.svg\" alt=\"Open In Colab\"/></a>"
      ]
    },
    {
      "cell_type": "code",
      "source": [
        "from google.colab import drive\n",
        "drive.mount('/content/drive')"
      ],
      "metadata": {
        "colab": {
          "base_uri": "https://localhost:8080/"
        },
        "id": "kdWUe8VU4Con",
        "outputId": "127e2668-6dc4-47b3-f675-8b93c596a86b"
      },
      "execution_count": 6,
      "outputs": [
        {
          "output_type": "stream",
          "name": "stdout",
          "text": [
            "Mounted at /content/drive\n"
          ]
        }
      ]
    },
    {
      "cell_type": "code",
      "source": [
        "!git clone https://github.com/Hanuiny/pytorch-tutorials.git"
      ],
      "metadata": {
        "colab": {
          "base_uri": "https://localhost:8080/"
        },
        "id": "Pg_r4F7p4D2C",
        "outputId": "008e862c-b89a-45f6-ba6c-9f41be34449e"
      },
      "execution_count": 25,
      "outputs": [
        {
          "output_type": "stream",
          "name": "stdout",
          "text": [
            "Cloning into 'pytorch-tutorials'...\n",
            "remote: Enumerating objects: 8329, done.\u001b[K\n",
            "remote: Counting objects: 100% (78/78), done.\u001b[K\n",
            "remote: Compressing objects: 100% (61/61), done.\u001b[K\n",
            "remote: Total 8329 (delta 36), reused 43 (delta 17), pack-reused 8251\u001b[K\n",
            "Receiving objects: 100% (8329/8329), 75.73 MiB | 11.93 MiB/s, done.\n",
            "Resolving deltas: 100% (5259/5259), done.\n",
            "Checking out files: 100% (621/621), done.\n"
          ]
        }
      ]
    },
    {
      "cell_type": "code",
      "source": [
        "!git clone https://github.com/Hanuiny/pythorch-examples.git"
      ],
      "metadata": {
        "colab": {
          "base_uri": "https://localhost:8080/"
        },
        "id": "rzh-mbaR4Jkh",
        "outputId": "5586a9a2-e712-4be0-cc76-3cd1398229fb"
      },
      "execution_count": 27,
      "outputs": [
        {
          "output_type": "stream",
          "name": "stdout",
          "text": [
            "Cloning into 'pythorch-examples'...\n",
            "remote: Enumerating objects: 3184, done.\u001b[K\n",
            "remote: Counting objects: 100% (82/82), done.\u001b[K\n",
            "remote: Compressing objects: 100% (80/80), done.\u001b[K\n",
            "remote: Total 3184 (delta 16), reused 53 (delta 2), pack-reused 3102\u001b[K\n",
            "Receiving objects: 100% (3184/3184), 17.07 MiB | 7.12 MiB/s, done.\n",
            "Resolving deltas: 100% (1584/1584), done.\n",
            "Checking out files: 100% (156/156), done.\n"
          ]
        }
      ]
    },
    {
      "cell_type": "code",
      "source": [
        "ls"
      ],
      "metadata": {
        "colab": {
          "base_uri": "https://localhost:8080/"
        },
        "id": "irsyikdZ4M2m",
        "outputId": "8cc68c42-1a84-4b74-f04c-ba56bf5944fb"
      },
      "execution_count": 30,
      "outputs": [
        {
          "output_type": "stream",
          "name": "stdout",
          "text": [
            "'drive mounting.ipynb'   \u001b[0m\u001b[01;34mGithub\u001b[0m/   Previously.ipynb   test.ipynb\n"
          ]
        }
      ]
    },
    {
      "cell_type": "code",
      "source": [],
      "metadata": {
        "id": "od2IHp7a4Ubf"
      },
      "execution_count": null,
      "outputs": []
    }
  ]
}